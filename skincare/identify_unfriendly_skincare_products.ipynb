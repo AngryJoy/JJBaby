{
 "cells": [
  {
   "cell_type": "code",
   "execution_count": 6,
   "metadata": {},
   "outputs": [],
   "source": [
    "import pandas as pd\n",
    "import os\n",
    "import sys\n",
    "import re\n",
    "\n",
    "%matplotlib inline\n",
    "from IPython.core.interactiveshell import InteractiveShell\n",
    "InteractiveShell.ast_node_interactivity = \"all\""
   ]
  },
  {
   "cell_type": "code",
   "execution_count": 7,
   "metadata": {},
   "outputs": [],
   "source": [
    "path = os.getcwd()"
   ]
  },
  {
   "cell_type": "code",
   "execution_count": 8,
   "metadata": {},
   "outputs": [],
   "source": [
    "with open(os.path.join(path, 'ingredients.txt'),'r') as f:\n",
    "    ingrd = f.readlines()\n",
    "ingrd = [line.strip() for line in ingrd if line !='']"
   ]
  },
  {
   "cell_type": "code",
   "execution_count": 17,
   "metadata": {},
   "outputs": [
    {
     "data": {
      "text/plain": [
       "['Retinoids',\n",
       " 'Avage, Fabior, Tazorac (tazarotene)',\n",
       " 'Avita (tretinoin)',\n",
       " 'Differin (adapelene)',\n",
       " 'Panretin (alitretinoin)',\n",
       " 'Retin-A, Renova (tretinoin)',\n",
       " 'Retinoic acid',\n",
       " 'Retinol',\n",
       " 'Retinyl linoleate',\n",
       " 'Retinyl palmitate',\n",
       " 'Targretin gel (bexarotene)',\n",
       " 'Hydroxy Acids',\n",
       " 'Alpha hydroxy acid (AHA)',\n",
       " 'Azelaic acid',\n",
       " 'Benzoyl peroxide',\n",
       " 'Beta hydroxy acids (BHA)',\n",
       " 'Beta hydroxybutanoic acid',\n",
       " 'Betaine salicylate',\n",
       " 'Citric acid',\n",
       " 'Dicarbonous acid']"
      ]
     },
     "execution_count": 17,
     "metadata": {},
     "output_type": "execute_result"
    }
   ],
   "source": [
    "# show some of the ingredients\n",
    "ingrd[: 20]"
   ]
  },
  {
   "cell_type": "code",
   "execution_count": 9,
   "metadata": {},
   "outputs": [],
   "source": [
    "# extract the names in the brackets\n",
    "def ingrd_extraction(ingrd):\n",
    "    ingrd_ = [re.split('[\\,\\*\\(\\)\\.]', line) for line in ingrd]\n",
    "    ingrd_ls = []\n",
    "    for ls in ingrd_:\n",
    "        ingrd_ls.extend(i.strip() for i in ls if i != '')\n",
    "#     print(len(ingrd_ls))\n",
    "    ingrd_ls = [ing.lower() for ing in ingrd_ls]\n",
    "    return ingrd_ls"
   ]
  },
  {
   "cell_type": "code",
   "execution_count": 11,
   "metadata": {},
   "outputs": [],
   "source": [
    "# plug in the ingredients of a skin care product\n",
    "prod_contains = open(\"product.txt\").readlines()[0]"
   ]
  },
  {
   "cell_type": "code",
   "execution_count": 12,
   "metadata": {},
   "outputs": [],
   "source": [
    "# process raw text\n",
    "prod_ingrd = re.split('[\\,\\*\\(\\)\\.]', prod_contains)\n",
    "prod_ingrd = [i.strip() for i in prod_ingrd]\n",
    "prod_ingrd = [ing.lower() for ing in prod_ingrd if ing !='']"
   ]
  },
  {
   "cell_type": "code",
   "execution_count": 16,
   "metadata": {},
   "outputs": [
    {
     "name": "stdout",
     "output_type": "stream",
     "text": [
      "potential harmful ingredient:  ['citric acid']\n"
     ]
    }
   ],
   "source": [
    "# search\n",
    "print(\"potential harmful ingredient: \", list(set(prod_ingrd).intersection(set(ingrd_ls))))"
   ]
  }
 ],
 "metadata": {
  "kernelspec": {
   "display_name": "Python 3",
   "language": "python",
   "name": "python3"
  },
  "language_info": {
   "codemirror_mode": {
    "name": "ipython",
    "version": 3
   },
   "file_extension": ".py",
   "mimetype": "text/x-python",
   "name": "python",
   "nbconvert_exporter": "python",
   "pygments_lexer": "ipython3",
   "version": "3.7.3"
  },
  "toc": {
   "base_numbering": 1,
   "nav_menu": {},
   "number_sections": true,
   "sideBar": true,
   "skip_h1_title": false,
   "title_cell": "Table of Contents",
   "title_sidebar": "Contents",
   "toc_cell": false,
   "toc_position": {
    "height": "451px",
    "left": "0px",
    "right": "1057.33px",
    "top": "106px",
    "width": "202px"
   },
   "toc_section_display": "block",
   "toc_window_display": true
  }
 },
 "nbformat": 4,
 "nbformat_minor": 2
}
