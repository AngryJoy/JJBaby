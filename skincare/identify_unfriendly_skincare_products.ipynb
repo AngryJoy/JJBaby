{
 "cells": [
  {
   "cell_type": "code",
   "execution_count": 1,
   "metadata": {},
   "outputs": [],
   "source": [
    "import pandas as pd\n",
    "import os\n",
    "import sys\n",
    "import re\n",
    "\n",
    "%matplotlib inline\n",
    "from IPython.core.interactiveshell import InteractiveShell\n",
    "InteractiveShell.ast_node_interactivity = \"all\""
   ]
  },
  {
   "cell_type": "code",
   "execution_count": 3,
   "metadata": {},
   "outputs": [],
   "source": [
    "path = os.getcwd()"
   ]
  },
  {
   "cell_type": "code",
   "execution_count": 4,
   "metadata": {},
   "outputs": [],
   "source": [
    "with open(os.path.join(path, 'ingredients.txt'),'r') as f:\n",
    "    ingrd = f.readlines()\n",
    "ingrd = [line.strip() for line in ingrd if line !='']"
   ]
  },
  {
   "cell_type": "code",
   "execution_count": 5,
   "metadata": {},
   "outputs": [],
   "source": [
    "# extract the names in the brackets\n",
    "def ingrd_extraction(ingrd):\n",
    "    ingrd_ = [re.split('[\\,\\*\\(\\)\\.]', line) for line in ingrd]\n",
    "    ingrd_ls = []\n",
    "    for ls in ingrd_:\n",
    "        ingrd_ls.extend(i.strip() for i in ls if i != '')\n",
    "#     print(len(ingrd_ls))\n",
    "    ingrd_ls = [ing.lower() for ing in ingrd_ls]\n",
    "    return ingrd_ls"
   ]
  },
  {
   "cell_type": "code",
   "execution_count": 6,
   "metadata": {},
   "outputs": [
    {
     "data": {
      "text/plain": [
       "['retinoids',\n",
       " 'avage',\n",
       " 'fabior',\n",
       " 'tazorac',\n",
       " 'tazarotene',\n",
       " 'avita',\n",
       " 'tretinoin',\n",
       " 'differin',\n",
       " 'adapelene',\n",
       " 'panretin',\n",
       " 'alitretinoin',\n",
       " 'retin-a',\n",
       " 'renova',\n",
       " 'tretinoin',\n",
       " 'retinoic acid',\n",
       " 'retinol',\n",
       " 'retinyl linoleate',\n",
       " 'retinyl palmitate',\n",
       " 'targretin gel',\n",
       " 'bexarotene']"
      ]
     },
     "execution_count": 6,
     "metadata": {},
     "output_type": "execute_result"
    }
   ],
   "source": [
    "ingrd_ls = ingrd_extraction(ingrd)\n",
    "ingrd_ls[:20]"
   ]
  },
  {
   "cell_type": "code",
   "execution_count": 7,
   "metadata": {},
   "outputs": [],
   "source": [
    "# plug in the ingredients of a skin care product\n",
    "prod_contains = \\\n",
    "\"Cyclopentasiloxane, Aqua (Water), PEG-10 Dimethicone, Neopentyl Glycol Diethlhexanoate, Talc, Mica, Phenyl Trimethicone, Sodium Chloride, Lauroyl Lysine, Dimenthicone Crosspolymer, Methylpropanediol, Glyceryl Caprylate, Propanediol, Disteardimonium Hectorite, Sucrose Palmitate, Phenoxyethanol, Sodium Myristoyl Glutamate, Alumina, Cyclohexasiloxane, Proplene Carbonate, Pentylene Glycol, Sorbitan Sesquioleate, Evodia Rutaecarpa Fruit Extract, Tocopheryl Acetate, Glyceryl Linoleate, Aluminum Hydroxide, Glyercin, Parfum (Fragrance), Benzyl Alcohol, Benzyl Benzoate, Citric Acid, Potassium Sorbate, Sodium Hyaluronate, Tin Oxide, BHT, Tocopherol [+/- CI 19140 (Yellow, Yellow 5 Lake), CI 42090 (Blue 1 Lake), CI 77007 (Ultramarine), CI 77163 (Bismuth Oxychloride), CI 77491, CI 77492, CI 77499 (Iron Oxides), CI 77891 (Titanium Oxide)].\""
   ]
  },
  {
   "cell_type": "code",
   "execution_count": 8,
   "metadata": {},
   "outputs": [],
   "source": [
    "# process raw text\n",
    "prod_ingrd = re.split('[\\,\\*\\(\\)\\.]', prod_contains)\n",
    "prod_ingrd = [i.strip() for i in prod_ingrd]\n",
    "prod_ingrd = [ing.lower() for ing in prod_ingrd if ing !='']"
   ]
  },
  {
   "cell_type": "code",
   "execution_count": 9,
   "metadata": {},
   "outputs": [
    {
     "data": {
      "text/plain": [
       "{'citric acid'}"
      ]
     },
     "execution_count": 9,
     "metadata": {},
     "output_type": "execute_result"
    }
   ],
   "source": [
    "# search\n",
    "set(prod_ingrd).intersection(set(ingrd_ls))"
   ]
  }
 ],
 "metadata": {
  "kernelspec": {
   "display_name": "Python 3",
   "language": "python",
   "name": "python3"
  },
  "language_info": {
   "codemirror_mode": {
    "name": "ipython",
    "version": 3
   },
   "file_extension": ".py",
   "mimetype": "text/x-python",
   "name": "python",
   "nbconvert_exporter": "python",
   "pygments_lexer": "ipython3",
   "version": "3.7.3"
  },
  "toc": {
   "base_numbering": 1,
   "nav_menu": {},
   "number_sections": true,
   "sideBar": true,
   "skip_h1_title": false,
   "title_cell": "Table of Contents",
   "title_sidebar": "Contents",
   "toc_cell": false,
   "toc_position": {
    "height": "451px",
    "left": "0px",
    "right": "1057.33px",
    "top": "106px",
    "width": "202px"
   },
   "toc_section_display": "block",
   "toc_window_display": true
  }
 },
 "nbformat": 4,
 "nbformat_minor": 2
}
