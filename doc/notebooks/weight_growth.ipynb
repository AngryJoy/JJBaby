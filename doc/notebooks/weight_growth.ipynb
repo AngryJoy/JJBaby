{
 "cells": [
  {
   "cell_type": "code",
   "execution_count": 1,
   "metadata": {},
   "outputs": [],
   "source": [
    "import os\n",
    "import sys\n",
    "\n",
    "from datetime import datetime, timedelta\n",
    "import pandas as pd\n",
    "import numpy as np\n",
    "import matplotlib.pyplot as plt\n",
    "from matplotlib.ticker import (MultipleLocator, FormatStrFormatter,\n",
    "                               AutoMinorLocator)\n",
    "import seaborn as sns\n",
    "\n",
    "%matplotlib inline"
   ]
  },
  {
   "cell_type": "code",
   "execution_count": 2,
   "metadata": {},
   "outputs": [],
   "source": [
    "data = pd.read_excel(\"../daily_tracking.xlsx\", sheet_name='weight', header=1)"
   ]
  },
  {
   "cell_type": "code",
   "execution_count": 3,
   "metadata": {},
   "outputs": [
    {
     "data": {
      "text/html": [
       "<div>\n",
       "<style scoped>\n",
       "    .dataframe tbody tr th:only-of-type {\n",
       "        vertical-align: middle;\n",
       "    }\n",
       "\n",
       "    .dataframe tbody tr th {\n",
       "        vertical-align: top;\n",
       "    }\n",
       "\n",
       "    .dataframe thead th {\n",
       "        text-align: right;\n",
       "    }\n",
       "</style>\n",
       "<table border=\"1\" class=\"dataframe\">\n",
       "  <thead>\n",
       "    <tr style=\"text-align: right;\">\n",
       "      <th></th>\n",
       "      <th>Date</th>\n",
       "      <th>Weeks</th>\n",
       "      <th>avg</th>\n",
       "      <th>std</th>\n",
       "      <th>Thu</th>\n",
       "      <th>Fri</th>\n",
       "      <th>Sat</th>\n",
       "      <th>Sun</th>\n",
       "      <th>Mon</th>\n",
       "      <th>Tue</th>\n",
       "      <th>Wed</th>\n",
       "      <th>Change Reason</th>\n",
       "    </tr>\n",
       "  </thead>\n",
       "  <tbody>\n",
       "    <tr>\n",
       "      <th>0</th>\n",
       "      <td>2019-01-10</td>\n",
       "      <td>0</td>\n",
       "      <td>NaN</td>\n",
       "      <td>NaN</td>\n",
       "      <td>NaN</td>\n",
       "      <td>NaN</td>\n",
       "      <td>NaN</td>\n",
       "      <td>NaN</td>\n",
       "      <td>NaN</td>\n",
       "      <td>NaN</td>\n",
       "      <td>NaN</td>\n",
       "      <td>NaN</td>\n",
       "    </tr>\n",
       "    <tr>\n",
       "      <th>1</th>\n",
       "      <td>2019-01-17</td>\n",
       "      <td>1</td>\n",
       "      <td>NaN</td>\n",
       "      <td>NaN</td>\n",
       "      <td>NaN</td>\n",
       "      <td>NaN</td>\n",
       "      <td>NaN</td>\n",
       "      <td>NaN</td>\n",
       "      <td>NaN</td>\n",
       "      <td>NaN</td>\n",
       "      <td>NaN</td>\n",
       "      <td>NaN</td>\n",
       "    </tr>\n",
       "    <tr>\n",
       "      <th>2</th>\n",
       "      <td>2019-01-24</td>\n",
       "      <td>2</td>\n",
       "      <td>NaN</td>\n",
       "      <td>NaN</td>\n",
       "      <td>NaN</td>\n",
       "      <td>NaN</td>\n",
       "      <td>NaN</td>\n",
       "      <td>NaN</td>\n",
       "      <td>NaN</td>\n",
       "      <td>NaN</td>\n",
       "      <td>NaN</td>\n",
       "      <td>NaN</td>\n",
       "    </tr>\n",
       "    <tr>\n",
       "      <th>3</th>\n",
       "      <td>2019-01-31</td>\n",
       "      <td>3</td>\n",
       "      <td>NaN</td>\n",
       "      <td>NaN</td>\n",
       "      <td>NaN</td>\n",
       "      <td>NaN</td>\n",
       "      <td>NaN</td>\n",
       "      <td>NaN</td>\n",
       "      <td>NaN</td>\n",
       "      <td>NaN</td>\n",
       "      <td>NaN</td>\n",
       "      <td>NaN</td>\n",
       "    </tr>\n",
       "    <tr>\n",
       "      <th>4</th>\n",
       "      <td>2019-02-07</td>\n",
       "      <td>4</td>\n",
       "      <td>NaN</td>\n",
       "      <td>NaN</td>\n",
       "      <td>NaN</td>\n",
       "      <td>NaN</td>\n",
       "      <td>NaN</td>\n",
       "      <td>NaN</td>\n",
       "      <td>NaN</td>\n",
       "      <td>NaN</td>\n",
       "      <td>NaN</td>\n",
       "      <td>NaN</td>\n",
       "    </tr>\n",
       "  </tbody>\n",
       "</table>\n",
       "</div>"
      ],
      "text/plain": [
       "        Date  Weeks  avg  std  Thu  Fri  Sat  Sun  Mon  Tue  Wed Change Reason\n",
       "0 2019-01-10      0  NaN  NaN  NaN  NaN  NaN  NaN  NaN  NaN  NaN           NaN\n",
       "1 2019-01-17      1  NaN  NaN  NaN  NaN  NaN  NaN  NaN  NaN  NaN           NaN\n",
       "2 2019-01-24      2  NaN  NaN  NaN  NaN  NaN  NaN  NaN  NaN  NaN           NaN\n",
       "3 2019-01-31      3  NaN  NaN  NaN  NaN  NaN  NaN  NaN  NaN  NaN           NaN\n",
       "4 2019-02-07      4  NaN  NaN  NaN  NaN  NaN  NaN  NaN  NaN  NaN           NaN"
      ]
     },
     "execution_count": 3,
     "metadata": {},
     "output_type": "execute_result"
    }
   ],
   "source": [
    "data.head()"
   ]
  },
  {
   "cell_type": "code",
   "execution_count": 4,
   "metadata": {},
   "outputs": [
    {
     "data": {
      "text/plain": [
       "Index(['Date', 'Weeks', 'avg', 'std', 'Thu', 'Fri', 'Sat', 'Sun', 'Mon', 'Tue',\n",
       "       'Wed', 'Change Reason'],\n",
       "      dtype='object')"
      ]
     },
     "execution_count": 4,
     "metadata": {},
     "output_type": "execute_result"
    }
   ],
   "source": [
    "data.columns"
   ]
  },
  {
   "cell_type": "code",
   "execution_count": 5,
   "metadata": {},
   "outputs": [],
   "source": [
    "# weight curve frequency -- daily/weekly/monthy\n",
    "freq = 1"
   ]
  },
  {
   "cell_type": "code",
   "execution_count": 6,
   "metadata": {},
   "outputs": [],
   "source": [
    "date_cols = ['Thu', 'Fri', 'Sat', 'Sun', 'Mon', 'Tue', 'Wed']\n",
    "date_maps = {c: i for i, c in enumerate(date_cols)}"
   ]
  },
  {
   "cell_type": "code",
   "execution_count": 7,
   "metadata": {},
   "outputs": [
    {
     "data": {
      "text/plain": [
       "Index(['Date', 0, 1, 2, 3, 4, 5, 6], dtype='object')"
      ]
     },
     "execution_count": 7,
     "metadata": {},
     "output_type": "execute_result"
    }
   ],
   "source": [
    "new_data = data[['Date'] + date_cols].rename(columns=date_maps)\n",
    "new_data.columns"
   ]
  },
  {
   "cell_type": "code",
   "execution_count": 8,
   "metadata": {},
   "outputs": [],
   "source": [
    "# transpose data\n",
    "new_data_l = new_data.melt(id_vars='Date', value_vars=date_maps.values(), \n",
    "              value_name='weight', var_name='prenatal_weekday')"
   ]
  },
  {
   "cell_type": "code",
   "execution_count": 9,
   "metadata": {},
   "outputs": [],
   "source": [
    "new_data_l = new_data_l.sort_values(by = ['Date', 'prenatal_weekday'], \n",
    "                       ascending=[True, True])\n",
    "new_data_l['calendar_date'] = new_data_l[['Date', 'prenatal_weekday']].apply(\n",
    "    lambda x: x[0] + timedelta(x[1]), axis=1)\n",
    "new_data_l = new_data_l.rename(columns={'Date': 'prenatal_week_s'})"
   ]
  },
  {
   "cell_type": "code",
   "execution_count": 10,
   "metadata": {},
   "outputs": [],
   "source": [
    "new_data_l['calendar_weekday'] = new_data_l['calendar_date'].dt.dayofweek"
   ]
  },
  {
   "cell_type": "code",
   "execution_count": 11,
   "metadata": {},
   "outputs": [
    {
     "data": {
      "text/html": [
       "<div>\n",
       "<style scoped>\n",
       "    .dataframe tbody tr th:only-of-type {\n",
       "        vertical-align: middle;\n",
       "    }\n",
       "\n",
       "    .dataframe tbody tr th {\n",
       "        vertical-align: top;\n",
       "    }\n",
       "\n",
       "    .dataframe thead th {\n",
       "        text-align: right;\n",
       "    }\n",
       "</style>\n",
       "<table border=\"1\" class=\"dataframe\">\n",
       "  <thead>\n",
       "    <tr style=\"text-align: right;\">\n",
       "      <th></th>\n",
       "      <th>prenatal_week_s</th>\n",
       "      <th>prenatal_weekday</th>\n",
       "      <th>weight</th>\n",
       "      <th>calendar_date</th>\n",
       "      <th>calendar_weekday</th>\n",
       "    </tr>\n",
       "    <tr>\n",
       "      <th>calendar_date</th>\n",
       "      <th></th>\n",
       "      <th></th>\n",
       "      <th></th>\n",
       "      <th></th>\n",
       "      <th></th>\n",
       "    </tr>\n",
       "  </thead>\n",
       "  <tbody>\n",
       "    <tr>\n",
       "      <th>2019-01-10</th>\n",
       "      <td>2019-01-10</td>\n",
       "      <td>0</td>\n",
       "      <td>NaN</td>\n",
       "      <td>2019-01-10</td>\n",
       "      <td>3</td>\n",
       "    </tr>\n",
       "    <tr>\n",
       "      <th>2019-01-11</th>\n",
       "      <td>2019-01-10</td>\n",
       "      <td>1</td>\n",
       "      <td>NaN</td>\n",
       "      <td>2019-01-11</td>\n",
       "      <td>4</td>\n",
       "    </tr>\n",
       "    <tr>\n",
       "      <th>2019-01-12</th>\n",
       "      <td>2019-01-10</td>\n",
       "      <td>2</td>\n",
       "      <td>NaN</td>\n",
       "      <td>2019-01-12</td>\n",
       "      <td>5</td>\n",
       "    </tr>\n",
       "    <tr>\n",
       "      <th>2019-01-13</th>\n",
       "      <td>2019-01-10</td>\n",
       "      <td>3</td>\n",
       "      <td>NaN</td>\n",
       "      <td>2019-01-13</td>\n",
       "      <td>6</td>\n",
       "    </tr>\n",
       "    <tr>\n",
       "      <th>2019-01-14</th>\n",
       "      <td>2019-01-10</td>\n",
       "      <td>4</td>\n",
       "      <td>NaN</td>\n",
       "      <td>2019-01-14</td>\n",
       "      <td>0</td>\n",
       "    </tr>\n",
       "  </tbody>\n",
       "</table>\n",
       "</div>"
      ],
      "text/plain": [
       "              prenatal_week_s prenatal_weekday  weight calendar_date  \\\n",
       "calendar_date                                                          \n",
       "2019-01-10         2019-01-10                0     NaN    2019-01-10   \n",
       "2019-01-11         2019-01-10                1     NaN    2019-01-11   \n",
       "2019-01-12         2019-01-10                2     NaN    2019-01-12   \n",
       "2019-01-13         2019-01-10                3     NaN    2019-01-13   \n",
       "2019-01-14         2019-01-10                4     NaN    2019-01-14   \n",
       "\n",
       "               calendar_weekday  \n",
       "calendar_date                    \n",
       "2019-01-10                    3  \n",
       "2019-01-11                    4  \n",
       "2019-01-12                    5  \n",
       "2019-01-13                    6  \n",
       "2019-01-14                    0  "
      ]
     },
     "execution_count": 11,
     "metadata": {},
     "output_type": "execute_result"
    }
   ],
   "source": [
    "new_data_l.index = new_data_l['calendar_date']\n",
    "# new_data_l.drop('calendar_date', axis=1, inplace=True)\n",
    "new_data_l.head()"
   ]
  },
  {
   "cell_type": "code",
   "execution_count": 12,
   "metadata": {},
   "outputs": [
    {
     "data": {
      "text/plain": [
       "prenatal_week_s     2019-10-17 00:00:00\n",
       "prenatal_weekday                      6\n",
       "weight                             57.2\n",
       "calendar_date       2019-10-23 00:00:00\n",
       "calendar_weekday                      6\n",
       "prenatal_week_no                     40\n",
       "dtype: object"
      ]
     },
     "execution_count": 12,
     "metadata": {},
     "output_type": "execute_result"
    }
   ],
   "source": [
    "new_data_l['prenatal_week_no'] = new_data_l.groupby(['prenatal_week_s']).ngroup()\n",
    "# new_data_l['prenatal_months']\n",
    "new_data_l.max()"
   ]
  },
  {
   "cell_type": "markdown",
   "metadata": {},
   "source": [
    "#### matplotlib flavor"
   ]
  },
  {
   "cell_type": "code",
   "execution_count": 13,
   "metadata": {},
   "outputs": [
    {
     "data": {
      "text/plain": [
       "prenatal_week_s     2019-07-18 00:00:00\n",
       "prenatal_weekday                      6\n",
       "weight                             56.7\n",
       "calendar_date       2019-07-24 00:00:00\n",
       "calendar_weekday                      2\n",
       "prenatal_week_no                     27\n",
       "Name: 2019-07-24 00:00:00, dtype: object"
      ]
     },
     "execution_count": 13,
     "metadata": {},
     "output_type": "execute_result"
    }
   ],
   "source": [
    "# sns.set(style=\"white\")\n",
    "new_data_l.loc['2019-07-24']"
   ]
  },
  {
   "cell_type": "code",
   "execution_count": 14,
   "metadata": {},
   "outputs": [
    {
     "data": {
      "image/png": "[encoded data removed]",
      "text/plain": [
       "<Figure size 864x432 with 2 Axes>"
      ]
     },
     "metadata": {
      "needs_background": "light"
     },
     "output_type": "display_data"
    }
   ],
   "source": [
    "# daily growth\n",
    "new_data_l['weight'].plot(kind='line',\n",
    "                          figsize=(12, 6),\n",
    "                          ylim=[50, 60], \n",
    "                          xlim=[new_data_l.index[0], new_data_l.index[-1]],\n",
    "                          fontsize=12,\n",
    "                          yticks=range(50, 61, 1),\n",
    "                          xticks=pd.date_range(start='2019-1-10', end='2019-10-17', freq='7D'),\n",
    "                          label='daily_growth',\n",
    "                          linewidth=3,\n",
    "                          marker='o',\n",
    "                          )\n",
    "ax = plt.gca()\n",
    "# weekly growth by mean value\n",
    "new_data_l['weekly_mean'] = new_data_l.groupby(\n",
    "    'prenatal_week_s')['weight'].transform(np.mean)\n",
    "new_data_l['weekly_mean'].plot(kind='line',\n",
    "                              figsize=(12, 6),\n",
    "                              ylim=[50, 60], \n",
    "                              xlim=[new_data_l.index[0], new_data_l.index[-1]],\n",
    "                              fontsize=12,\n",
    "                              yticks=range(50, 61, 1),\n",
    "                              label='weekly_growth',\n",
    "                              linewidth=3,\n",
    "#                               marker='x',\n",
    "                              ax=ax\n",
    "                          )\n",
    "# overall settings\n",
    "ax.legend(fontsize=12)\n",
    "ax.set_xlabel('Calendar Date', fontsize=12)\n",
    "ax.set_ylabel('Weight (kg)', fontsize=12)\n",
    "# ax.grid()\n",
    "ax.yaxis.grid(True)\n",
    "\n",
    "ax2 = ax.twiny()\n",
    "ax2.set_xticks(range(0, new_data_l['prenatal_week_no'].max() + 4, 4))\n",
    "ax2.tick_params(axis='both', which='major', labelsize=12)\n",
    "ax2.set_xlabel('Gestational Age (Weeks)', fontsize=12)\n",
    "ax2.xaxis.grid(True)\n",
    "\n",
    "\n",
    "fig = plt.gcf()\n",
    "fig.suptitle(\"Mom's Weight Growth Trend\", \n",
    "             x=0.5, y=1, fontsize=14, fontweight='bold')\n",
    "# fig.subplots_adjust(top=0.85)\n",
    "fig.savefig(\"mom_weight_growth.png\")\n",
    "\n",
    "plt.show()"
   ]
  },
  {
   "cell_type": "markdown",
   "metadata": {},
   "source": [
    "#### seaborn flavor"
   ]
  },
  {
   "cell_type": "code",
   "execution_count": 15,
   "metadata": {},
   "outputs": [
    {
     "data": {
      "text/plain": [
       "<seaborn.axisgrid.FacetGrid at 0x1e1c0b894e0>"
      ]
     },
     "execution_count": 15,
     "metadata": {},
     "output_type": "execute_result"
    },
    {
     "data": {
      "image/png": "[encoded data removed]",
      "text/plain": [
       "<Figure size 360x360 with 1 Axes>"
      ]
     },
     "metadata": {
      "needs_background": "light"
     },
     "output_type": "display_data"
    }
   ],
   "source": [
    "sns.relplot(x=\"calendar_date\", y=\"weight\", kind=\"line\", data=new_data_l)"
   ]
  },
  {
   "cell_type": "code",
   "execution_count": null,
   "metadata": {},
   "outputs": [],
   "source": []
  }
 ],
 "metadata": {
  "kernelspec": {
   "display_name": "Python 3",
   "language": "python",
   "name": "python3"
  },
  "language_info": {
   "codemirror_mode": {
    "name": "ipython",
    "version": 3
   },
   "file_extension": ".py",
   "mimetype": "text/x-python",
   "name": "python",
   "nbconvert_exporter": "python",
   "pygments_lexer": "ipython3",
   "version": "3.7.3"
  },
  "toc": {
   "base_numbering": 1,
   "nav_menu": {},
   "number_sections": true,
   "sideBar": true,
   "skip_h1_title": false,
   "title_cell": "Table of Contents",
   "title_sidebar": "Contents",
   "toc_cell": false,
   "toc_position": {},
   "toc_section_display": true,
   "toc_window_display": false
  }
 },
 "nbformat": 4,
 "nbformat_minor": 2
}
